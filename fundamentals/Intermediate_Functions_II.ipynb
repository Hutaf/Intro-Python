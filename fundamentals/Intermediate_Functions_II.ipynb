{
  "nbformat": 4,
  "nbformat_minor": 0,
  "metadata": {
    "colab": {
      "name": "Intermediate_Functions_II.ipynb",
      "provenance": [],
      "collapsed_sections": []
    },
    "kernelspec": {
      "name": "python3",
      "display_name": "Python 3"
    }
  },
  "cells": [
    {
      "cell_type": "markdown",
      "metadata": {
        "id": "wux4_Oz68scR"
      },
      "source": [
        "## OPTIONAL Assignment: Intermediate Functions II"
      ]
    },
    {
      "cell_type": "markdown",
      "metadata": {
        "id": "wsJZP4hh82CF"
      },
      "source": [
        "### Task 1: Update Values in Dictionaries and Lists\n",
        "1. Change the value 10 in x to 15. Once you're done, x should now be [ [5,2,3], [15,8,9] ].\n",
        "2. Change the last_name of the first student from 'Jordan' to 'Bryant'\n",
        "3. In the sports_directory, change 'Messi' to 'Andres'\n",
        "4. Change the value 20 in z to 30\n",
        "\n",
        "\n",
        "\n"
      ]
    },
    {
      "cell_type": "code",
      "metadata": {
        "id": "kM8fVP2l8q4g"
      },
      "source": [
        "x = [ [5,2,3], [10,8,9] ] \n",
        "students = [\n",
        "     {'first_name':  'Michael', 'last_name' : 'Jordan'},\n",
        "     {'first_name' : 'John', 'last_name' : 'Rosales'}\n",
        "]\n",
        "sports_directory = {\n",
        "    'basketball' : ['Kobe', 'Jordan', 'James', 'Curry'],\n",
        "    'soccer' : ['Messi', 'Ronaldo', 'Rooney']\n",
        "}\n",
        "z = [ {'x': 10, 'y': 20} ]\n"
      ],
      "execution_count": 3,
      "outputs": []
    },
    {
      "cell_type": "code",
      "metadata": {
        "id": "jfiWH3E99WfR",
        "outputId": "47975d33-d463-4028-e19a-6fb46d6a5712",
        "colab": {
          "base_uri": "https://localhost:8080/",
          "height": 35
        }
      },
      "source": [
        "## Solution ##\n",
        "## 1. Change the value 10 in x to 15. Once you're done, x should now be [ [5,2,3], [15,8,9] ].\n",
        "x[1][0] = 15\n",
        "x"
      ],
      "execution_count": 14,
      "outputs": [
        {
          "output_type": "execute_result",
          "data": {
            "text/plain": [
              "[{'x': 10, 'y': 30}]"
            ]
          },
          "metadata": {
            "tags": []
          },
          "execution_count": 14
        }
      ]
    },
    {
      "cell_type": "code",
      "metadata": {
        "id": "r1HXgGeTAGL-"
      },
      "source": [
        "## 2. Change the last_name of the first student from 'Jordan' to 'Bryant'\n",
        "students[0]['last_name']= 'Bryant'\n",
        "students"
      ],
      "execution_count": null,
      "outputs": []
    },
    {
      "cell_type": "code",
      "metadata": {
        "id": "I5a-06Z6AH8z"
      },
      "source": [
        "## 3. In the sports_directory, change 'Messi' to 'Andres'\n",
        "sports_directory['soccer'][0]= 'Andres'\n",
        "sports_directory"
      ],
      "execution_count": null,
      "outputs": []
    },
    {
      "cell_type": "code",
      "metadata": {
        "id": "eZDzGDCxAJob"
      },
      "source": [
        "## 4. Change the value 20 in z to 30\n",
        "z[0]['y']=30\n",
        "z"
      ],
      "execution_count": null,
      "outputs": []
    },
    {
      "cell_type": "markdown",
      "metadata": {
        "id": "s0iCVgYmAPGh"
      },
      "source": [
        "### Task 2: Iterate Through a List of Dictionaries\n",
        "Create a function iterateDictionary(some_list) that, given a list of dictionaries, the function loops through each dictionary in the list and prints each key and the associated value. For example, given the following list:"
      ]
    },
    {
      "cell_type": "markdown",
      "metadata": {
        "id": "4DZ5XcvYAiFB"
      },
      "source": [
        "##### should output: (it's okay if each key-value pair ends up on 2 separate lines; bonus to get them to appear exactly as below!)\n",
        "#####first_name - Michael, last_name - Jordan\n",
        "#####first_name - John, last_name - Rosales\n",
        "#####first_name - Mark, last_name - Guillen\n",
        "#####first_name - KB, last_name - Tonel"
      ]
    },
    {
      "cell_type": "code",
      "metadata": {
        "id": "fnWd7zjUAT1v"
      },
      "source": [
        "students = [\n",
        "         {'first_name':  'Michael', 'last_name' : 'Jordan'},\n",
        "         {'first_name' : 'John', 'last_name' : 'Rosales'},\n",
        "         {'first_name' : 'Mark', 'last_name' : 'Guillen'},\n",
        "         {'first_name' : 'KB', 'last_name' : 'Tonel'}\n",
        "    ]"
      ],
      "execution_count": 15,
      "outputs": []
    },
    {
      "cell_type": "code",
      "metadata": {
        "id": "7572vKseA1FM",
        "outputId": "74aa740d-e00f-463d-bc61-e8cd553ae685",
        "colab": {
          "base_uri": "https://localhost:8080/",
          "height": 225
        }
      },
      "source": [
        "## Solution ##\n",
        "def iterateDictionary(list_of_dict):\n",
        "  for x in list_of_dict:\n",
        "    for k,v in x.items():\n",
        "      print(f\"{k} - {v}\")\n",
        "    print(\"\\r\")\n",
        "\n",
        "iterateDictionary(students) \n"
      ],
      "execution_count": 34,
      "outputs": [
        {
          "output_type": "stream",
          "text": [
            "first_name - Michael\n",
            "last_name - Jordan\n",
            "\r\n",
            "first_name - John\n",
            "last_name - Rosales\n",
            "\r\n",
            "first_name - Mark\n",
            "last_name - Guillen\n",
            "\r\n",
            "first_name - KB\n",
            "last_name - Tonel\n",
            "\r\n"
          ],
          "name": "stdout"
        }
      ]
    },
    {
      "cell_type": "markdown",
      "metadata": {
        "id": "hgP7r765FGlA"
      },
      "source": [
        "### Task 3: Get Values From a List of Dictionaries\n",
        "Create a function iterateDictionary2(key_name, some_list) that, given a list of dictionaries and a key name, the function prints the value stored in that key for each dictionary. For example, iterateDictionary2('first_name', students) should output:"
      ]
    },
    {
      "cell_type": "code",
      "metadata": {
        "id": "b10Gt54OFMry",
        "outputId": "bfb135b4-fcaa-462e-8ec9-abf1c6db13a6",
        "colab": {
          "base_uri": "https://localhost:8080/",
          "height": 173
        }
      },
      "source": [
        "## Solution ##\n",
        "def iterateDictionary2(key_name, some_list):\n",
        "  for x in some_list:\n",
        "    for k,v in x.items():\n",
        "      if k == key_name:\n",
        "        print(v)\n",
        "\n",
        "iterateDictionary2('first_name', students) \n",
        "print(\"\\r\")\n",
        "iterateDictionary2('last_name', students)"
      ],
      "execution_count": 36,
      "outputs": [
        {
          "output_type": "stream",
          "text": [
            "Michael\n",
            "John\n",
            "Mark\n",
            "KB\n",
            "\r\n",
            "Jordan\n",
            "Rosales\n",
            "Guillen\n",
            "Tonel\n"
          ],
          "name": "stdout"
        }
      ]
    },
    {
      "cell_type": "markdown",
      "metadata": {
        "id": "Rs2Ib92LFlpr"
      },
      "source": [
        "### Task 4: Iterate Through a Dictionary with List Values\n",
        "Create a function printInfo(some_dict) that given a dictionary whose values are all lists, prints the name of each key along with the size of its list, and then prints the associated values within each key's list. For example:"
      ]
    },
    {
      "cell_type": "code",
      "metadata": {
        "id": "6b6GxS8RFsLZ"
      },
      "source": [
        "dojo = {\n",
        "   'locations': ['San Jose', 'Seattle', 'Dallas', 'Chicago', 'Tulsa', 'DC', 'Burbank'],\n",
        "   'instructors': ['Michael', 'Amy', 'Eduardo', 'Josh', 'Graham', 'Patrick', 'Minh', 'Devon']\n",
        "}\n"
      ],
      "execution_count": 40,
      "outputs": []
    },
    {
      "cell_type": "code",
      "metadata": {
        "id": "ihbTSN9aF6e0",
        "outputId": "87de2ee6-7f87-46d6-cdda-afd80b2ffc88",
        "colab": {
          "base_uri": "https://localhost:8080/",
          "height": 347
        }
      },
      "source": [
        "## Solution ##\n",
        "def printInfo(dojo):\n",
        "  for k, v in dojo.items():\n",
        "    print(k)\n",
        "    for x in v:\n",
        "     print(x)\n",
        "    print(\"\\r\")\n",
        "\n",
        "printInfo(dojo)"
      ],
      "execution_count": 42,
      "outputs": [
        {
          "output_type": "stream",
          "text": [
            "locations\n",
            "San Jose\n",
            "Seattle\n",
            "Dallas\n",
            "Chicago\n",
            "Tulsa\n",
            "DC\n",
            "Burbank\n",
            "\r\n",
            "instructors\n",
            "Michael\n",
            "Amy\n",
            "Eduardo\n",
            "Josh\n",
            "Graham\n",
            "Patrick\n",
            "Minh\n",
            "Devon\n",
            "\r\n"
          ],
          "name": "stdout"
        }
      ]
    }
  ]
}