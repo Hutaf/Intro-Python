{
  "nbformat": 4,
  "nbformat_minor": 0,
  "metadata": {
    "colab": {
      "name": "Basic_Functions_I.ipynb",
      "provenance": [],
      "authorship_tag": "ABX9TyOQCFda+G5jJbHUu8fCgdZN",
      "include_colab_link": true
    },
    "kernelspec": {
      "name": "python3",
      "display_name": "Python 3"
    }
  },
  "cells": [
    {
      "cell_type": "markdown",
      "metadata": {
        "id": "view-in-github",
        "colab_type": "text"
      },
      "source": [
        "<a href=\"https://colab.research.google.com/github/Hutaf/Python_Intro/blob/master/Basic_Functions_I.ipynb\" target=\"_parent\"><img src=\"https://colab.research.google.com/assets/colab-badge.svg\" alt=\"Open In Colab\"/></a>"
      ]
    },
    {
      "cell_type": "code",
      "metadata": {
        "id": "cy_g6e4lVQCO",
        "outputId": "3e473bc8-d2fd-4881-d391-828046337e37",
        "colab": {
          "base_uri": "https://localhost:8080/",
          "height": 35
        }
      },
      "source": [
        "##### Basic Functions I #####\n",
        "\n",
        "# For each of the following code snippets, first predict the output\n",
        "# (what you will see printed to the terminal). \n",
        "# Once you've made a prediction, run the code snippet to see if you are correct!\n",
        "\n",
        "\n",
        "# 1\n",
        "def a1():\n",
        "    return 5\n",
        "print(a1())\n",
        "\n",
        "# Answer: 5\n",
        "# Actual Output: 5 (TRUE)"
      ],
      "execution_count": 1,
      "outputs": [
        {
          "output_type": "stream",
          "text": [
            "5\n"
          ],
          "name": "stdout"
        }
      ]
    },
    {
      "cell_type": "code",
      "metadata": {
        "id": "zNU419M0ViTS",
        "outputId": "05193448-f201-450d-ecfe-1c3f71bf0b3a",
        "colab": {
          "base_uri": "https://localhost:8080/",
          "height": 35
        }
      },
      "source": [
        "# 2\n",
        "def a2():\n",
        "    return 5\n",
        "print(a2()+a2())\n",
        "\n",
        "# Answer: 10 # It will call a2() twice and sum the returned values 5+5 = 10\n",
        "# Actual Output: 10 (TRUE)\n",
        "\n"
      ],
      "execution_count": 2,
      "outputs": [
        {
          "output_type": "stream",
          "text": [
            "10\n"
          ],
          "name": "stdout"
        }
      ]
    },
    {
      "cell_type": "code",
      "metadata": {
        "id": "drLbF0aVVl3k",
        "outputId": "71cc9275-873d-461b-a7d5-5027ab45a26d",
        "colab": {
          "base_uri": "https://localhost:8080/",
          "height": 35
        }
      },
      "source": [
        "# 3\n",
        "def a3():\n",
        "    return 5\n",
        "    return 10\n",
        "print(a3())\n",
        "\n",
        "# Answer: 5 ## It will return the first return statement (return 5) and ignore the second because its unreachable code\n",
        "# Actual Output: 5 (TRUE)\n",
        "\n"
      ],
      "execution_count": 3,
      "outputs": [
        {
          "output_type": "stream",
          "text": [
            "5\n"
          ],
          "name": "stdout"
        }
      ]
    },
    {
      "cell_type": "code",
      "metadata": {
        "id": "t33vYgIiVpTU",
        "outputId": "a0c62d8e-6194-405f-8fb5-6a7acff67237",
        "colab": {
          "base_uri": "https://localhost:8080/",
          "height": 35
        }
      },
      "source": [
        "# 4\n",
        "def a4():\n",
        "    return 5\n",
        "    print(10)\n",
        "print(a4())\n",
        "\n",
        "# Answer: 5 ## It will just return the return statement and ignore the print because its unreachable code\n",
        "# Actual Output: 5 (TRUE)\n",
        "\n"
      ],
      "execution_count": 4,
      "outputs": [
        {
          "output_type": "stream",
          "text": [
            "5\n"
          ],
          "name": "stdout"
        }
      ]
    },
    {
      "cell_type": "code",
      "metadata": {
        "id": "hMgO1VTTVsRv",
        "outputId": "7e2b2849-97a0-43ff-dc35-2f26059e7a2c",
        "colab": {
          "base_uri": "https://localhost:8080/",
          "height": 52
        }
      },
      "source": [
        "#5\n",
        "def a5():\n",
        "    print(5)\n",
        "x = a5()\n",
        "print(x)\n",
        "\n",
        "# Answer: Nothing ## Since the a5() is a void function it will return nonthing \n",
        "# Actual Output: it will print 5 when calling a5() but also X= None (Half-TRUE)\n",
        "\n"
      ],
      "execution_count": 5,
      "outputs": [
        {
          "output_type": "stream",
          "text": [
            "5\n",
            "None\n"
          ],
          "name": "stdout"
        }
      ]
    },
    {
      "cell_type": "code",
      "metadata": {
        "id": "mHdbRoZcV6ZY",
        "outputId": "1b37e5df-00ba-4666-f481-1af01577e576",
        "colab": {
          "base_uri": "https://localhost:8080/",
          "height": 270
        }
      },
      "source": [
        "#6\n",
        "def a6(b,c):\n",
        "    print(b+c)\n",
        "print(a6(1,2) + a6(2,3))\n",
        "\n",
        "# Answer: 3, 5 # it will print the sum of 1 and 2 = 3 then the sum of 2 and 3 = 5 but \n",
        "# Nothing for the the third sum since the printed values are not numbers \n",
        "\n",
        "# Actual Output: It will print 3 and 5 then throw an error since the two operands are NoneType \n",
        "# TypeError: unsupported operand type(s) for +: 'NoneType' and 'NoneType' (TRUE)\n"
      ],
      "execution_count": 6,
      "outputs": [
        {
          "output_type": "stream",
          "text": [
            "3\n",
            "5\n"
          ],
          "name": "stdout"
        },
        {
          "output_type": "error",
          "ename": "TypeError",
          "evalue": "ignored",
          "traceback": [
            "\u001b[0;31m---------------------------------------------------------------------------\u001b[0m",
            "\u001b[0;31mTypeError\u001b[0m                                 Traceback (most recent call last)",
            "\u001b[0;32m<ipython-input-6-2f8266133465>\u001b[0m in \u001b[0;36m<module>\u001b[0;34m()\u001b[0m\n\u001b[1;32m      2\u001b[0m \u001b[0;32mdef\u001b[0m \u001b[0ma6\u001b[0m\u001b[0;34m(\u001b[0m\u001b[0mb\u001b[0m\u001b[0;34m,\u001b[0m\u001b[0mc\u001b[0m\u001b[0;34m)\u001b[0m\u001b[0;34m:\u001b[0m\u001b[0;34m\u001b[0m\u001b[0;34m\u001b[0m\u001b[0m\n\u001b[1;32m      3\u001b[0m     \u001b[0mprint\u001b[0m\u001b[0;34m(\u001b[0m\u001b[0mb\u001b[0m\u001b[0;34m+\u001b[0m\u001b[0mc\u001b[0m\u001b[0;34m)\u001b[0m\u001b[0;34m\u001b[0m\u001b[0;34m\u001b[0m\u001b[0m\n\u001b[0;32m----> 4\u001b[0;31m \u001b[0mprint\u001b[0m\u001b[0;34m(\u001b[0m\u001b[0ma6\u001b[0m\u001b[0;34m(\u001b[0m\u001b[0;36m1\u001b[0m\u001b[0;34m,\u001b[0m\u001b[0;36m2\u001b[0m\u001b[0;34m)\u001b[0m \u001b[0;34m+\u001b[0m \u001b[0ma6\u001b[0m\u001b[0;34m(\u001b[0m\u001b[0;36m2\u001b[0m\u001b[0;34m,\u001b[0m\u001b[0;36m3\u001b[0m\u001b[0;34m)\u001b[0m\u001b[0;34m)\u001b[0m\u001b[0;34m\u001b[0m\u001b[0;34m\u001b[0m\u001b[0m\n\u001b[0m\u001b[1;32m      5\u001b[0m \u001b[0;34m\u001b[0m\u001b[0m\n\u001b[1;32m      6\u001b[0m \u001b[0;31m# Answer: 3, 5 # it will print the sum of 1 and 2 = 3 then the sum of 2 and 3 = 5 but\u001b[0m\u001b[0;34m\u001b[0m\u001b[0;34m\u001b[0m\u001b[0;34m\u001b[0m\u001b[0m\n",
            "\u001b[0;31mTypeError\u001b[0m: unsupported operand type(s) for +: 'NoneType' and 'NoneType'"
          ]
        }
      ]
    },
    {
      "cell_type": "code",
      "metadata": {
        "id": "_wpPewETWIrQ",
        "outputId": "aa27e714-3203-4569-a286-93980f613a55",
        "colab": {
          "base_uri": "https://localhost:8080/",
          "height": 35
        }
      },
      "source": [
        "#7\n",
        "def a7(b,c):\n",
        "    return str(b)+str(c)\n",
        "print(a7(2,5))\n",
        "\n",
        "# Answer: 25 # it will return 25, the concatenation of the two args\n",
        "# Actual Output: 25 (TRUE)\n"
      ],
      "execution_count": 7,
      "outputs": [
        {
          "output_type": "stream",
          "text": [
            "25\n"
          ],
          "name": "stdout"
        }
      ]
    },
    {
      "cell_type": "code",
      "metadata": {
        "id": "JsgxnefAWLhZ",
        "outputId": "d9e8f8c3-b761-4c21-a03f-0fc923b0c113",
        "colab": {
          "base_uri": "https://localhost:8080/",
          "height": 131
        }
      },
      "source": [
        "\n",
        "# 8\n",
        "\n",
        "def a8():\n",
        " b = 100\n",
        " print(b)\n",
        " if b < 10:\n",
        "    return 5\n",
        " else:\n",
        "    return 10\n",
        " return 7\n",
        "\n",
        "print(a8())\n",
        "\n",
        "# Answer: 100 # it will print only the b value because it wrong putting several returns value in if statement\n",
        "# Suggestion: its better to remove the else and the last return statement since it is unreachable\n",
        "\n",
        "def a8_mine():\n",
        " b = 100\n",
        " print(b)\n",
        " if b < 10:\n",
        "    return 5\n",
        " return 10\n",
        "\n",
        "print(a8_mine())\n",
        "\n",
        "# Actual Output: It will retrun nothing since the a8() has a syntax error *invalid character in identifier*  (Half - TRUE)\n",
        "\n",
        "\n"
      ],
      "execution_count": 11,
      "outputs": [
        {
          "output_type": "error",
          "ename": "SyntaxError",
          "evalue": "ignored",
          "traceback": [
            "\u001b[0;36m  File \u001b[0;32m\"<ipython-input-11-d75b80780720>\"\u001b[0;36m, line \u001b[0;32m9\u001b[0m\n\u001b[0;31m    else:\u001b[0m\n\u001b[0m       ^\u001b[0m\n\u001b[0;31mSyntaxError\u001b[0m\u001b[0;31m:\u001b[0m invalid character in identifier\n"
          ]
        }
      ]
    },
    {
      "cell_type": "code",
      "metadata": {
        "id": "fhrsYqtQWXcU",
        "outputId": "fea73394-f0a5-4ebb-b984-7647e517d9d8",
        "colab": {
          "base_uri": "https://localhost:8080/",
          "height": 69
        }
      },
      "source": [
        "#9\n",
        "def a(b,c):\n",
        "    if b<c:\n",
        "        return 7\n",
        "    else:\n",
        "        return 14\n",
        "    return 3\n",
        "print(a(2,3))\n",
        "print(a(5,3))\n",
        "print(a(2,3) + a(5,3))\n",
        "\n",
        "# Answer: 7, 14, 21 # it will return 7 for the first call and 14 for the second since 5<3 then 21 for the third call \n",
        "# Suggestion: Removing the last return statement since its unreachable statement\n",
        "# Actual Output: 7, 14, 21 (TRUE)\n"
      ],
      "execution_count": 9,
      "outputs": [
        {
          "output_type": "stream",
          "text": [
            "7\n",
            "14\n",
            "21\n"
          ],
          "name": "stdout"
        }
      ]
    },
    {
      "cell_type": "code",
      "metadata": {
        "id": "LcgfvGyHXe1x",
        "outputId": "de8d91f4-1850-4f71-dd6d-56ac2e542a21",
        "colab": {
          "base_uri": "https://localhost:8080/",
          "height": 35
        }
      },
      "source": [
        "#10\n",
        "def a(b,c):\n",
        "    return b+c\n",
        "    return 10\n",
        "print(a(3,5))\n",
        "\n",
        "# Answer: 8\n",
        "# Suggestion: Removing the last return statement since its unreachable statement\n",
        "# Actual Output: 8 (TRUE)"
      ],
      "execution_count": 12,
      "outputs": [
        {
          "output_type": "stream",
          "text": [
            "8\n"
          ],
          "name": "stdout"
        }
      ]
    },
    {
      "cell_type": "code",
      "metadata": {
        "id": "hCztRsn1YBl6",
        "outputId": "ce5c87eb-0423-4797-ce1a-b68285d14b6d",
        "colab": {
          "base_uri": "https://localhost:8080/",
          "height": 87
        }
      },
      "source": [
        "#11\n",
        "b = 500\n",
        "print(b)\n",
        "def a():\n",
        "    b = 300\n",
        "    print(b)\n",
        "print(b)\n",
        "a()\n",
        "print(b)\n",
        "\n",
        "# Answer: 500,  500, 300, 500 # it will assign 500 to b and print it, then it will print b again 500\n",
        "# Next, calling a11() to print 300 then print the b again 500\n",
        "# Actual Output: 500, 500, 300, 500 (TRUE)"
      ],
      "execution_count": 13,
      "outputs": [
        {
          "output_type": "stream",
          "text": [
            "500\n",
            "500\n",
            "300\n",
            "500\n"
          ],
          "name": "stdout"
        }
      ]
    },
    {
      "cell_type": "code",
      "metadata": {
        "id": "gSipztSSYeu0",
        "outputId": "1da437b4-5b88-4e51-fe5f-aa072b722db9",
        "colab": {
          "base_uri": "https://localhost:8080/",
          "height": 87
        }
      },
      "source": [
        "#12\n",
        "b = 500\n",
        "print(b)\n",
        "def a():\n",
        "    b = 300\n",
        "    print(b)\n",
        "    return b\n",
        "print(b)\n",
        "a()\n",
        "print(b)\n",
        "\n",
        "# Answer: 500,  500, 300, 500 # it will assign 500 to b and print it, then it will print b again 500\n",
        "# Next, calling a12() to print 300 then print the b again 500\n",
        "# Actual Output: 500, 500, 300, 500 (TRUE)"
      ],
      "execution_count": 14,
      "outputs": [
        {
          "output_type": "stream",
          "text": [
            "500\n",
            "500\n",
            "300\n",
            "500\n"
          ],
          "name": "stdout"
        }
      ]
    },
    {
      "cell_type": "code",
      "metadata": {
        "id": "XWlTLRNwYsZd",
        "outputId": "e7e03a75-42a6-4a1b-9d53-f71d7925a6aa",
        "colab": {
          "base_uri": "https://localhost:8080/",
          "height": 87
        }
      },
      "source": [
        "#13\n",
        "b = 500\n",
        "print(b)\n",
        "def a13():\n",
        "    b = 300\n",
        "    print(b)\n",
        "    return b\n",
        "print(b)\n",
        "b=a13()\n",
        "print(b)\n",
        "\n",
        "# Answer: 500,  500, 300, 300 # it will assign 500 to b and print it, then it will print b again 500\n",
        "# Next, calling a13() to print 300 and assign the return value to the b then print new value of b which is 300\n",
        "# Actual Output: 500, 500, 300, 300 (TRUE)"
      ],
      "execution_count": 15,
      "outputs": [
        {
          "output_type": "stream",
          "text": [
            "500\n",
            "500\n",
            "300\n",
            "300\n"
          ],
          "name": "stdout"
        }
      ]
    },
    {
      "cell_type": "code",
      "metadata": {
        "id": "V-0v6Vv_ZiXn",
        "outputId": "98b7962b-6094-470a-e631-d945153de12a",
        "colab": {
          "base_uri": "https://localhost:8080/",
          "height": 69
        }
      },
      "source": [
        "#14\n",
        "def a14():\n",
        "    print(1)\n",
        "    b14()\n",
        "    print(2)\n",
        "def b14():\n",
        "    print(3)\n",
        "a14()\n",
        "# Answer: 1, 3, 2 # it will print 1 then calling b to print 3 then retrun to print 2\n",
        "# Actual Output: 1, 3, 2 (TRUE)"
      ],
      "execution_count": 18,
      "outputs": [
        {
          "output_type": "stream",
          "text": [
            "1\n",
            "3\n",
            "2\n"
          ],
          "name": "stdout"
        }
      ]
    },
    {
      "cell_type": "code",
      "metadata": {
        "id": "6sFW0fdcaHkP",
        "outputId": "4d73a05f-4ea6-49bb-eb73-387dc6a3e6f2",
        "colab": {
          "base_uri": "https://localhost:8080/",
          "height": 87
        }
      },
      "source": [
        "#15\n",
        "def a15():\n",
        "    print(1)\n",
        "    x = b15()\n",
        "    print(x)\n",
        "    return 10\n",
        "def b15():\n",
        "    print(3)\n",
        "    return 5\n",
        "y = a15()\n",
        "print(y)\n",
        "# Answer: 1, 3, 5, 10\n",
        "# when we call a15() will print 1 then calling b to print 3 and return 5 to the x variable then print x \n",
        "# next return 10 to the y and printing y \n",
        "# Actual Output: 1, 3, 5, 10 (TRUE)"
      ],
      "execution_count": 19,
      "outputs": [
        {
          "output_type": "stream",
          "text": [
            "1\n",
            "3\n",
            "5\n",
            "10\n"
          ],
          "name": "stdout"
        }
      ]
    }
  ]
}