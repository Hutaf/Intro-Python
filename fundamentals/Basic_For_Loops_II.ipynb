{
  "nbformat": 4,
  "nbformat_minor": 0,
  "metadata": {
    "colab": {
      "name": "Basic_For_Loops_II.ipynb",
      "provenance": []
    },
    "kernelspec": {
      "name": "python3",
      "display_name": "Python 3"
    }
  },
  "cells": [
    {
      "cell_type": "markdown",
      "metadata": {
        "id": "Augvead4k2DL"
      },
      "source": [
        "## Assignment: Basic For Loops II\n"
      ]
    },
    {
      "cell_type": "markdown",
      "metadata": {
        "id": "dJ6diYHclDs6"
      },
      "source": [
        "### Task 1\n",
        "#### Biggie Size - Given a list, write a function that changes all positive numbers in the list to \"big\". Example: biggie_size([-1, 3, 5, -5]) returns that same list, but whose values are now [-1, \"big\", \"big\", -5]"
      ]
    },
    {
      "cell_type": "code",
      "metadata": {
        "id": "DDmHdW6RkyMm",
        "outputId": "ef2b576f-e133-4db8-80b4-85f01e47e135",
        "colab": {
          "base_uri": "https://localhost:8080/",
          "height": 35
        }
      },
      "source": [
        "def biggie_size(a):\n",
        " for x in range(len(a)):\n",
        "   if a[x] > 0:\n",
        "     a[x]=\"big\"\n",
        "   else:\n",
        "     continue\n",
        " return a\n",
        "\n",
        "biggie_size([-1, 3, 5, -5])"
      ],
      "execution_count": 1,
      "outputs": [
        {
          "output_type": "execute_result",
          "data": {
            "text/plain": [
              "[-1, 'big', 'big', -5]"
            ]
          },
          "metadata": {
            "tags": []
          },
          "execution_count": 1
        }
      ]
    },
    {
      "cell_type": "markdown",
      "metadata": {
        "id": "-i46GkRImHWL"
      },
      "source": [
        "### Task 2\n",
        "#### Count Positives - Given a list of numbers, create a function to replace the last value with the number of positive values. (Note that zero is not considered to be a positive number). Example: count_positives([-1,1,1,1]) changes the original list to [-1,1,1,3] and returns it Example: count_positives([1,6,-4,-2,-7,-2]) changes the list to [1,6,-4,-2,-7,2] and returns it "
      ]
    },
    {
      "cell_type": "code",
      "metadata": {
        "id": "IfmjVmgUmTwD",
        "outputId": "464a58c2-a4a7-4097-914a-49d0c0aa1a7c",
        "colab": {
          "base_uri": "https://localhost:8080/",
          "height": 35
        }
      },
      "source": [
        "def count_positives(a):\n",
        " positive_counter = 0\n",
        " for x in a:\n",
        "   if x > 0:\n",
        "     positive_counter+=1\n",
        "   else:\n",
        "     continue\n",
        " a[len(a)-1]=positive_counter\n",
        " return a\n",
        "\n",
        "count_positives([-1,1,1,1])\n",
        "#count_positives([1,6,-4,-2,-7,-2])"
      ],
      "execution_count": 2,
      "outputs": [
        {
          "output_type": "execute_result",
          "data": {
            "text/plain": [
              "[-1, 1, 1, 3]"
            ]
          },
          "metadata": {
            "tags": []
          },
          "execution_count": 2
        }
      ]
    },
    {
      "cell_type": "markdown",
      "metadata": {
        "id": "9ow3XX4lnNjB"
      },
      "source": [
        "### Task 3\n",
        "#### Sum Total - Create a function that takes a list and returns the sum of all the values in the array. Example: sum_total([1,2,3,4]) should return 10 Example: sum_total([6,3,-2]) should return 7"
      ]
    },
    {
      "cell_type": "code",
      "metadata": {
        "id": "YTMZATJknT4S",
        "outputId": "fa32433d-a6f3-43d5-d17b-9cc2c59427fc",
        "colab": {
          "base_uri": "https://localhost:8080/",
          "height": 35
        }
      },
      "source": [
        "def sum_total(a):\n",
        " sum = 0\n",
        " for x in a:\n",
        "   sum+=x\n",
        " return sum\n",
        "\n",
        "sum_total([1,2,3,4])\n",
        "#sum_total([6,3,-2])"
      ],
      "execution_count": 3,
      "outputs": [
        {
          "output_type": "execute_result",
          "data": {
            "text/plain": [
              "10"
            ]
          },
          "metadata": {
            "tags": []
          },
          "execution_count": 3
        }
      ]
    },
    {
      "cell_type": "markdown",
      "metadata": {
        "id": "khs1VCWfnowb"
      },
      "source": [
        "### Task 4\n",
        "#### Average - Create a function that takes a list and returns the average of all the values. Example: average([1,2,3,4]) should return 2.5"
      ]
    },
    {
      "cell_type": "code",
      "metadata": {
        "id": "MNUqQdsinvnt",
        "outputId": "91120d51-1b6d-4281-9999-97ffd9b494a1",
        "colab": {
          "base_uri": "https://localhost:8080/",
          "height": 35
        }
      },
      "source": [
        "def average(a):\n",
        " sum = 0\n",
        " for x in a:\n",
        "   sum+=x\n",
        " return sum/len(a)\n",
        "\n",
        "average([1,2,3,4])"
      ],
      "execution_count": 4,
      "outputs": [
        {
          "output_type": "execute_result",
          "data": {
            "text/plain": [
              "2.5"
            ]
          },
          "metadata": {
            "tags": []
          },
          "execution_count": 4
        }
      ]
    },
    {
      "cell_type": "markdown",
      "metadata": {
        "id": "Yfl3lsDIoCFB"
      },
      "source": [
        "### Task 5\n",
        "#### Length - Create a function that takes a list and returns the length of the list. Example: length([37,2,1,-9]) should return 4. Example: length([]) should return 0"
      ]
    },
    {
      "cell_type": "code",
      "metadata": {
        "id": "eP93j8RBoKnf",
        "outputId": "48a06601-294f-464e-c94b-033ca6da1bba",
        "colab": {
          "base_uri": "https://localhost:8080/",
          "height": 35
        }
      },
      "source": [
        "def length(a):\n",
        "  return len(a)\n",
        "\n",
        "length([37,2,1,-9])\n",
        "#length([])"
      ],
      "execution_count": 5,
      "outputs": [
        {
          "output_type": "execute_result",
          "data": {
            "text/plain": [
              "4"
            ]
          },
          "metadata": {
            "tags": []
          },
          "execution_count": 5
        }
      ]
    },
    {
      "cell_type": "markdown",
      "metadata": {
        "id": "vHv-LFMYobg1"
      },
      "source": [
        "### Task 6\n",
        "#### Minimum - Create a function that takes a list of numbers and returns the minimum value in the list. (Optional) If the list is empty, have the function return False. Example: minimum([37,2,1,-9]) should return -9.\n",
        "#### (Optional) Example: minimum([]) should return False"
      ]
    },
    {
      "cell_type": "code",
      "metadata": {
        "id": "GOR8dyiGommj",
        "outputId": "46a4fe9e-ffb0-48ca-e612-aaee000e0bc6",
        "colab": {
          "base_uri": "https://localhost:8080/",
          "height": 35
        }
      },
      "source": [
        "def minimum(a):\n",
        "  if len(a) == 0:\n",
        "    return False\n",
        "  else:\n",
        "    min= a[0]\n",
        "    for x in a:\n",
        "      if x<min:\n",
        "        min =x\n",
        "      else:\n",
        "        continue\n",
        "  return min\n",
        "\n",
        "minimum([37,2,1,-9])\n",
        "#minimum([]) "
      ],
      "execution_count": 6,
      "outputs": [
        {
          "output_type": "execute_result",
          "data": {
            "text/plain": [
              "-9"
            ]
          },
          "metadata": {
            "tags": []
          },
          "execution_count": 6
        }
      ]
    },
    {
      "cell_type": "markdown",
      "metadata": {
        "id": "GoNcYAk3pLbX"
      },
      "source": [
        "### Task 7\n",
        "#### Maximum - Create a function that takes a list and returns the maximum value in the array. (Optional) If the list is empty, have the function return False. Example: maximum([37,2,1,-9]) should return 37\n",
        "#### (Optional) Example: maximum([]) should return False"
      ]
    },
    {
      "cell_type": "code",
      "metadata": {
        "id": "8PzRWs2DpUJY",
        "outputId": "9357b0a7-4d8e-4ad1-c45e-f57a4e9457e3",
        "colab": {
          "base_uri": "https://localhost:8080/",
          "height": 35
        }
      },
      "source": [
        "def maximum(a):\n",
        "  if len(a) == 0:\n",
        "    return False\n",
        "  else:\n",
        "    max= a[0]\n",
        "    for x in a:\n",
        "      if x>max:\n",
        "        max =x\n",
        "      else:\n",
        "        continue\n",
        "  return max\n",
        "\n",
        "maximum([37,2,1,-9]) \n",
        "#maximum([])"
      ],
      "execution_count": 7,
      "outputs": [
        {
          "output_type": "execute_result",
          "data": {
            "text/plain": [
              "37"
            ]
          },
          "metadata": {
            "tags": []
          },
          "execution_count": 7
        }
      ]
    },
    {
      "cell_type": "markdown",
      "metadata": {
        "id": "HzXmYCe4piHD"
      },
      "source": [
        "### Task 8 (Optional)\n",
        "#### Ultimate Analysis  - Create a function that takes a list and returns a dictionary that has the sumTotal, average, minimum, maximum and length of the list. Example: ultimate_analysis([37,2,1,-9]) should return {'sumTotal': 31, 'average': 7.75, 'minimum': -9, 'maximum': 37, 'length': 4 }"
      ]
    },
    {
      "cell_type": "code",
      "metadata": {
        "id": "vWN2RNruphhu",
        "outputId": "3b03bea3-7e06-45c2-8a2e-39f0317ec138",
        "colab": {
          "base_uri": "https://localhost:8080/",
          "height": 35
        }
      },
      "source": [
        "def ultimate_analysis(a):\n",
        "  ulitimate_analysis = {\n",
        "      \"sumTotal\": sum_total(a),\n",
        "      \"average\": average(a),\n",
        "      \"minimum\": minimum(a), \n",
        "      \"maximum\": maximum(a), \n",
        "      \"length\": length(a)}\n",
        "  return ulitimate_analysis\n",
        "\n",
        "ultimate_analysis([37,2,1,-9])"
      ],
      "execution_count": 8,
      "outputs": [
        {
          "output_type": "execute_result",
          "data": {
            "text/plain": [
              "{'average': 7.75, 'length': 4, 'maximum': 37, 'minimum': -9, 'sumTotal': 31}"
            ]
          },
          "metadata": {
            "tags": []
          },
          "execution_count": 8
        }
      ]
    },
    {
      "cell_type": "markdown",
      "metadata": {
        "id": "DtHsBELIrQzR"
      },
      "source": [
        "### Task 9 (Optional)\n",
        "#### Reverse List - Create a function that takes a list and return that list with values reversed. Do this without creating a second list. (This challenge is known to appear during basic technical interviews.) Example: reverse_list([37,2,1,-9]) should return [-9,1,2,37]"
      ]
    },
    {
      "cell_type": "code",
      "metadata": {
        "id": "Yzzi8HODradc",
        "outputId": "072bf459-e493-4846-e120-ee7c42d7c4e1",
        "colab": {
          "base_uri": "https://localhost:8080/",
          "height": 35
        }
      },
      "source": [
        "def reverse_list(a):\n",
        "  last = len(a)-1\n",
        "  size = len(a)//2\n",
        "  for x in range(size):\n",
        "    temp = a[last]\n",
        "    a[last] = a[x]\n",
        "    a[x] = temp \n",
        "    last -=1\n",
        "  return a\n",
        "\n",
        "\n",
        "reverse_list([37,2,1,-9])  "
      ],
      "execution_count": 9,
      "outputs": [
        {
          "output_type": "execute_result",
          "data": {
            "text/plain": [
              "[-9, 1, 2, 37]"
            ]
          },
          "metadata": {
            "tags": []
          },
          "execution_count": 9
        }
      ]
    }
  ]
}