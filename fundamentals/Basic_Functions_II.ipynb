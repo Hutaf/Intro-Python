{
  "nbformat": 4,
  "nbformat_minor": 0,
  "metadata": {
    "colab": {
      "name": "Basic_Functions_II.ipynb",
      "provenance": []
    },
    "kernelspec": {
      "name": "python3",
      "display_name": "Python 3"
    }
  },
  "cells": [
    {
      "cell_type": "markdown",
      "metadata": {
        "id": "euy_vZiefGKi"
      },
      "source": [
        "### Assignment: Functions Basic II "
      ]
    },
    {
      "cell_type": "markdown",
      "metadata": {
        "id": "aIBQB4E5fL_W"
      },
      "source": [
        "### Task 1\n",
        "#### Countdown - Create a function that accepts a number as an input.  Return a new list that counts down by one, from the number (as the 0th element) down to 0 (as the last element). Example: countdown(5) should return the list: [5,4,3,2,1,0]\n"
      ]
    },
    {
      "cell_type": "code",
      "metadata": {
        "id": "swKrxZsbeyPy",
        "outputId": "eaf8cbc7-4d4e-453a-947a-efd6704e8569",
        "colab": {
          "base_uri": "https://localhost:8080/",
          "height": 35
        }
      },
      "source": [
        "def countdown(a):\n",
        "  count = []\n",
        "  for x in range(a, -1, -1):\n",
        "   count.append(x)\n",
        "  return count\n",
        "\n",
        "countdown(5)"
      ],
      "execution_count": 2,
      "outputs": [
        {
          "output_type": "execute_result",
          "data": {
            "text/plain": [
              "[5, 4, 3, 2, 1, 0]"
            ]
          },
          "metadata": {
            "tags": []
          },
          "execution_count": 2
        }
      ]
    },
    {
      "cell_type": "markdown",
      "metadata": {
        "id": "WKAkDSMRgBeG"
      },
      "source": [
        "### Task 2\n",
        "#### Print and Return - Create a function that will receive a list with two numbers. Print the first value and return the second. Example: print_and_return([1,2]) should print 1 and return 2"
      ]
    },
    {
      "cell_type": "code",
      "metadata": {
        "id": "kHfYmPFwgI6C",
        "outputId": "6c265434-5bbe-4c88-9bce-c73478cadf64",
        "colab": {
          "base_uri": "https://localhost:8080/",
          "height": 52
        }
      },
      "source": [
        "def print_and_return(a):\n",
        "  if len(a)==2:\n",
        "    print(a[0])\n",
        "    return a[1]\n",
        "  else:\n",
        "    print(\"Try again with a list contain 2 numbers only\")\n",
        " \n",
        "x = print_and_return([1,2]) # print 1 then return 2 to x \n",
        "print(x) # print 2 "
      ],
      "execution_count": 6,
      "outputs": [
        {
          "output_type": "stream",
          "text": [
            "1\n",
            "2\n"
          ],
          "name": "stdout"
        }
      ]
    },
    {
      "cell_type": "markdown",
      "metadata": {
        "id": "OwaJ3Z-GhD6p"
      },
      "source": [
        "### Task 3\n",
        "#### First Plus Length - Create a function that accepts a list and returns the sum of the first value in the list plus the list's length. Example: first_plus_length([1,2,3,4,5]) should return 6 (first value: 1 + length: 5)"
      ]
    },
    {
      "cell_type": "code",
      "metadata": {
        "id": "3OvmHNvfhLis",
        "outputId": "647c9d6e-46de-4b96-de30-a503630c8898",
        "colab": {
          "base_uri": "https://localhost:8080/",
          "height": 35
        }
      },
      "source": [
        "def first_plus_length(a):\n",
        " return a[0]+len(a)\n",
        "\n",
        "first_plus_length([1,2,3,4,5])"
      ],
      "execution_count": 7,
      "outputs": [
        {
          "output_type": "execute_result",
          "data": {
            "text/plain": [
              "6"
            ]
          },
          "metadata": {
            "tags": []
          },
          "execution_count": 7
        }
      ]
    },
    {
      "cell_type": "markdown",
      "metadata": {
        "id": "qkrNoulnhd8F"
      },
      "source": [
        "### Task 4\n",
        "#### This Length, That Value- Write a function that accepts two integers as parameters: size and value. The function should create and return a list whose length is equal to the given size, and whose values are all the given value.\n",
        "#### Example: length_and_value(4,7) should return [7,7,7,7]\n",
        "#### Example: length_and_value(6,2) should return [2,2,2,2,2,2]"
      ]
    },
    {
      "cell_type": "code",
      "metadata": {
        "id": "24SUG7lbhdeI",
        "outputId": "29b176ea-bcb3-4892-e014-87b11f3559e2",
        "colab": {
          "base_uri": "https://localhost:8080/",
          "height": 35
        }
      },
      "source": [
        "def length_and_value(size, value):\n",
        "  listx = []\n",
        "  for x in range(size):\n",
        "    listx.append(value)\n",
        "  return listx  \n",
        "\n",
        "length_and_value(4,7) \n",
        "#length_and_value(6,2)"
      ],
      "execution_count": 10,
      "outputs": [
        {
          "output_type": "execute_result",
          "data": {
            "text/plain": [
              "[7, 7, 7, 7]"
            ]
          },
          "metadata": {
            "tags": []
          },
          "execution_count": 10
        }
      ]
    },
    {
      "cell_type": "markdown",
      "metadata": {
        "id": "A1y2etGRiiTX"
      },
      "source": [
        "### Task 5 (Optional) \n",
        "#### Values Greater than Second - Write a function that accepts a list and creates a new list containing only the values from the original list that are greater than its 2nd value. Print how many values this is and then return the new list. If the list has less than 2 elements, have the function return False\n",
        "#### Example: values_greater_than_second([5,2,3,2,1,4]) should print 3 and return [5,3,4]\n",
        "#### Example: values_greater_than_second([3]) should return False"
      ]
    },
    {
      "cell_type": "code",
      "metadata": {
        "id": "xEryjX56iuq7",
        "outputId": "0e685d70-a3d7-41a7-8d71-56b18eb6e439",
        "colab": {
          "base_uri": "https://localhost:8080/",
          "height": 35
        }
      },
      "source": [
        "def values_greater_than_second(a):\n",
        " if len(a)>1:\n",
        "    second = a[1]\n",
        "    greater_than_second = []\n",
        "    for x in a:\n",
        "      if x > second:\n",
        "        greater_than_second.append(x)\n",
        "      else:\n",
        "        continue\n",
        "    return greater_than_second\n",
        " else:\n",
        "    return False \n",
        "\n",
        "values_greater_than_second([5,2,3,2,1,4])\n",
        "#values_greater_than_second([3])"
      ],
      "execution_count": 15,
      "outputs": [
        {
          "output_type": "execute_result",
          "data": {
            "text/plain": [
              "[5, 3, 4]"
            ]
          },
          "metadata": {
            "tags": []
          },
          "execution_count": 15
        }
      ]
    },
    {
      "cell_type": "code",
      "metadata": {
        "id": "4dNrp9KDkF0y"
      },
      "source": [
        ""
      ],
      "execution_count": null,
      "outputs": []
    }
  ]
}