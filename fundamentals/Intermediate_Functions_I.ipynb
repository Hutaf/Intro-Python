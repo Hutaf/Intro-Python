{
  "nbformat": 4,
  "nbformat_minor": 0,
  "metadata": {
    "colab": {
      "name": "Intermediate_Functions_I.ipynb",
      "provenance": []
    },
    "kernelspec": {
      "name": "python3",
      "display_name": "Python 3"
    }
  },
  "cells": [
    {
      "cell_type": "markdown",
      "metadata": {
        "id": "TsS6lu-Y3iQq"
      },
      "source": [
        "## Assignment: Intermediate Functions I"
      ]
    },
    {
      "cell_type": "markdown",
      "metadata": {
        "id": "Ik67DZ7q3mF-"
      },
      "source": [
        "#### With this concept of default parameters in mind, the goal of this assignment is to write a single function we are going to name randInt() that takes up to 2 arguments.\n",
        "\n",
        "* If no arguments are provided, the function should return a random integer between 0 and 100.\n",
        "* If only a max number is provided, the function should return a random * integer between 0 and the max number.\n",
        "* If only a min number is provided, the function should return a random integer between the min number and 100\n",
        "* If both a min and max number are provided, the function should return a random integer between those 2 values."
      ]
    },
    {
      "cell_type": "code",
      "metadata": {
        "id": "V9ykMrbx1xht"
      },
      "source": [
        "import random\n",
        "def randInt(min =  0 , max = 100):\n",
        "    num = random.random()* (max-min) + min\n",
        "    return round(num)"
      ],
      "execution_count": 36,
      "outputs": []
    },
    {
      "cell_type": "code",
      "metadata": {
        "id": "wi4eMBUu4QIk",
        "outputId": "aa672090-8764-4a8b-9d4c-920d361fdb5d",
        "colab": {
          "base_uri": "https://localhost:8080/",
          "height": 35
        }
      },
      "source": [
        "print(randInt())  # should print a random integer between 0 to 100"
      ],
      "execution_count": 75,
      "outputs": [
        {
          "output_type": "stream",
          "text": [
            "78\n"
          ],
          "name": "stdout"
        }
      ]
    },
    {
      "cell_type": "code",
      "metadata": {
        "id": "DpJ9rRit4grs",
        "outputId": "bb527470-3489-481f-f322-fb3524e6848c",
        "colab": {
          "base_uri": "https://localhost:8080/",
          "height": 35
        }
      },
      "source": [
        "print(randInt(max = 50)) # should print a random integer between 0 to 50"
      ],
      "execution_count": 97,
      "outputs": [
        {
          "output_type": "stream",
          "text": [
            "24\n"
          ],
          "name": "stdout"
        }
      ]
    },
    {
      "cell_type": "code",
      "metadata": {
        "id": "_JvbDz9t4oZE",
        "outputId": "9c5c40be-9636-4628-d03a-4b33f692b474",
        "colab": {
          "base_uri": "https://localhost:8080/",
          "height": 35
        }
      },
      "source": [
        "print(randInt(min = 50))  # should print a random integer between 50 to 100"
      ],
      "execution_count": 116,
      "outputs": [
        {
          "output_type": "stream",
          "text": [
            "58\n"
          ],
          "name": "stdout"
        }
      ]
    },
    {
      "cell_type": "code",
      "metadata": {
        "id": "tv0-6NUg4wf8",
        "outputId": "f24a7943-596f-4403-84f9-24ae1a372aa7",
        "colab": {
          "base_uri": "https://localhost:8080/",
          "height": 35
        }
      },
      "source": [
        "print(randInt(min = 50, max = 500))   # should print a random integer between 50 and 500"
      ],
      "execution_count": 134,
      "outputs": [
        {
          "output_type": "stream",
          "text": [
            "363\n"
          ],
          "name": "stdout"
        }
      ]
    }
  ]
}